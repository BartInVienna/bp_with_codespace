{
 "cells": [
  {
   "cell_type": "code",
   "execution_count": 80,
   "id": "83abc6e3",
   "metadata": {},
   "outputs": [],
   "source": [
    "import pandas as pd\n",
    "import numpy as np\n",
    "import plotly.express as px\n",
    "from datetime import timedelta\n",
    "import datetime\n",
    "import pytz"
   ]
  },
  {
   "cell_type": "code",
   "execution_count": 2,
   "id": "4372a2e9",
   "metadata": {},
   "outputs": [],
   "source": [
    "spx = pd.read_parquet(\"SPX.parquet\")\n",
    "vix = pd.read_parquet(\"VIX4y.parquet\")"
   ]
  },
  {
   "cell_type": "code",
   "execution_count": 3,
   "id": "ecd4b8a4",
   "metadata": {},
   "outputs": [],
   "source": [
    "spx = spx.set_index(\"date\")\n",
    "vix = vix.set_index(\"date\")"
   ]
  },
  {
   "cell_type": "code",
   "execution_count": 4,
   "id": "8ae85dc7",
   "metadata": {},
   "outputs": [],
   "source": [
    "\n",
    "spx_1h = pd.DataFrame(spx[\"close\"].resample(\"1h\").mean().dropna().astype(\"float32\"))\n",
    "vix_1h = vix[\"close\"].resample(\"1h\").mean().dropna().astype(\"float32\")\n",
    "#spx_1d = spx[\"close\"].resample(\"1d\").mean().dropna().astype(\"float32\")"
   ]
  },
  {
   "cell_type": "code",
   "execution_count": 5,
   "id": "9d0a1127",
   "metadata": {},
   "outputs": [
    {
     "name": "stdout",
     "output_type": "stream",
     "text": [
      "<class 'pandas.core.frame.DataFrame'>\n",
      "DatetimeIndex: 8754 entries, 2020-10-19 15:00:00+02:00 to 2025-10-16 20:00:00+02:00\n",
      "Data columns (total 1 columns):\n",
      " #   Column  Non-Null Count  Dtype  \n",
      "---  ------  --------------  -----  \n",
      " 0   close   8754 non-null   float32\n",
      "dtypes: float32(1)\n",
      "memory usage: 102.6 KB\n",
      "<class 'pandas.core.series.Series'>\n",
      "DatetimeIndex: 14029 entries, 2021-10-18 09:00:00+02:00 to 2025-10-16 20:00:00+02:00\n",
      "Series name: close\n",
      "Non-Null Count  Dtype  \n",
      "--------------  -----  \n",
      "14029 non-null  float32\n",
      "dtypes: float32(1)\n",
      "memory usage: 164.4 KB\n"
     ]
    },
    {
     "data": {
      "text/plain": [
       "(None, None)"
      ]
     },
     "execution_count": 5,
     "metadata": {},
     "output_type": "execute_result"
    }
   ],
   "source": [
    "spx_1h.info(), vix_1h.info()"
   ]
  },
  {
   "cell_type": "code",
   "execution_count": 6,
   "id": "079ee55f",
   "metadata": {},
   "outputs": [],
   "source": [
    "spx_1h[\"ma5\"] = spx_1h[\"close\"].rolling(5).mean().round(2)\n",
    "spx_1h[\"ma20\"] = spx_1h[\"close\"].rolling(20).mean().round(2)\n",
    "#spx_1h[\"ma20\"] = spx_1h.rolling(20).mean().round(2)"
   ]
  },
  {
   "cell_type": "code",
   "execution_count": 7,
   "id": "ebdf973e",
   "metadata": {},
   "outputs": [
    {
     "data": {
      "text/html": [
       "<div>\n",
       "<style scoped>\n",
       "    .dataframe tbody tr th:only-of-type {\n",
       "        vertical-align: middle;\n",
       "    }\n",
       "\n",
       "    .dataframe tbody tr th {\n",
       "        vertical-align: top;\n",
       "    }\n",
       "\n",
       "    .dataframe thead th {\n",
       "        text-align: right;\n",
       "    }\n",
       "</style>\n",
       "<table border=\"1\" class=\"dataframe\">\n",
       "  <thead>\n",
       "    <tr style=\"text-align: right;\">\n",
       "      <th></th>\n",
       "      <th>close</th>\n",
       "      <th>ma5</th>\n",
       "      <th>ma20</th>\n",
       "    </tr>\n",
       "    <tr>\n",
       "      <th>date</th>\n",
       "      <th></th>\n",
       "      <th></th>\n",
       "      <th></th>\n",
       "    </tr>\n",
       "  </thead>\n",
       "  <tbody>\n",
       "    <tr>\n",
       "      <th>2020-10-21 20:00:00+02:00</th>\n",
       "      <td>3457.790039</td>\n",
       "      <td>3445.47</td>\n",
       "      <td>3455.28</td>\n",
       "    </tr>\n",
       "    <tr>\n",
       "      <th>2020-10-21 21:00:00+02:00</th>\n",
       "      <td>3435.129883</td>\n",
       "      <td>3442.71</td>\n",
       "      <td>3452.34</td>\n",
       "    </tr>\n",
       "    <tr>\n",
       "      <th>2020-10-22 15:00:00+02:00</th>\n",
       "      <td>3443.590088</td>\n",
       "      <td>3443.36</td>\n",
       "      <td>3450.52</td>\n",
       "    </tr>\n",
       "    <tr>\n",
       "      <th>2020-10-22 16:00:00+02:00</th>\n",
       "      <td>3430.939941</td>\n",
       "      <td>3442.19</td>\n",
       "      <td>3448.49</td>\n",
       "    </tr>\n",
       "    <tr>\n",
       "      <th>2020-10-22 17:00:00+02:00</th>\n",
       "      <td>3431.340088</td>\n",
       "      <td>3439.76</td>\n",
       "      <td>3446.52</td>\n",
       "    </tr>\n",
       "    <tr>\n",
       "      <th>...</th>\n",
       "      <td>...</td>\n",
       "      <td>...</td>\n",
       "      <td>...</td>\n",
       "    </tr>\n",
       "    <tr>\n",
       "      <th>2025-10-16 16:00:00+02:00</th>\n",
       "      <td>6693.450195</td>\n",
       "      <td>6680.12</td>\n",
       "      <td>6664.41</td>\n",
       "    </tr>\n",
       "    <tr>\n",
       "      <th>2025-10-16 17:00:00+02:00</th>\n",
       "      <td>6666.810059</td>\n",
       "      <td>6680.33</td>\n",
       "      <td>6664.48</td>\n",
       "    </tr>\n",
       "    <tr>\n",
       "      <th>2025-10-16 18:00:00+02:00</th>\n",
       "      <td>6656.060059</td>\n",
       "      <td>6675.59</td>\n",
       "      <td>6664.51</td>\n",
       "    </tr>\n",
       "    <tr>\n",
       "      <th>2025-10-16 19:00:00+02:00</th>\n",
       "      <td>6639.810059</td>\n",
       "      <td>6669.26</td>\n",
       "      <td>6664.33</td>\n",
       "    </tr>\n",
       "    <tr>\n",
       "      <th>2025-10-16 20:00:00+02:00</th>\n",
       "      <td>6605.810059</td>\n",
       "      <td>6652.39</td>\n",
       "      <td>6661.92</td>\n",
       "    </tr>\n",
       "  </tbody>\n",
       "</table>\n",
       "<p>8735 rows × 3 columns</p>\n",
       "</div>"
      ],
      "text/plain": [
       "                                 close      ma5     ma20\n",
       "date                                                    \n",
       "2020-10-21 20:00:00+02:00  3457.790039  3445.47  3455.28\n",
       "2020-10-21 21:00:00+02:00  3435.129883  3442.71  3452.34\n",
       "2020-10-22 15:00:00+02:00  3443.590088  3443.36  3450.52\n",
       "2020-10-22 16:00:00+02:00  3430.939941  3442.19  3448.49\n",
       "2020-10-22 17:00:00+02:00  3431.340088  3439.76  3446.52\n",
       "...                                ...      ...      ...\n",
       "2025-10-16 16:00:00+02:00  6693.450195  6680.12  6664.41\n",
       "2025-10-16 17:00:00+02:00  6666.810059  6680.33  6664.48\n",
       "2025-10-16 18:00:00+02:00  6656.060059  6675.59  6664.51\n",
       "2025-10-16 19:00:00+02:00  6639.810059  6669.26  6664.33\n",
       "2025-10-16 20:00:00+02:00  6605.810059  6652.39  6661.92\n",
       "\n",
       "[8735 rows x 3 columns]"
      ]
     },
     "execution_count": 7,
     "metadata": {},
     "output_type": "execute_result"
    }
   ],
   "source": [
    "spx_1h[19:]"
   ]
  },
  {
   "cell_type": "code",
   "execution_count": 8,
   "id": "71fe62ea",
   "metadata": {},
   "outputs": [],
   "source": [
    "spx_1h = spx_1h.join(vix_1h, how=\"left\", rsuffix=\"_vix\").dropna()"
   ]
  },
  {
   "cell_type": "code",
   "execution_count": 9,
   "id": "ef501d77",
   "metadata": {},
   "outputs": [
    {
     "data": {
      "text/plain": [
       "<Axes: >"
      ]
     },
     "execution_count": 9,
     "metadata": {},
     "output_type": "execute_result"
    },
    {
     "data": {
      "image/png": "[encoded data removed]",
      "text/plain": [
       "<Figure size 640x480 with 1 Axes>"
      ]
     },
     "metadata": {},
     "output_type": "display_data"
    }
   ],
   "source": [
    "spx_1h.reset_index()[[\"close\", \"ma5\", \"ma20\"]][200:500].plot()"
   ]
  },
  {
   "cell_type": "code",
   "execution_count": 103,
   "id": "635ef1b9",
   "metadata": {},
   "outputs": [],
   "source": [
    "fig = px.line(spx_1h.tz_localize(None).loc[test:test + timedelta(weeks=13)].reset_index(), y=[\"close\", \"ma5\", \"ma20\"], title=\"SPX_1h_lines\")"
   ]
  },
  {
   "cell_type": "code",
   "execution_count": 104,
   "id": "cdf9673c",
   "metadata": {},
   "outputs": [
    {
     "data": {
      "application/vnd.plotly.v1+json": {
       "config": {
        "plotlyServerURL": "https://plot.ly"
       },
       "data": [
        {
         "hovertemplate": "variable=close<br>index=%{x}<br>value=%{y}<extra></extra>",
         "legendgroup": "close",
         "line": {
          "color": "#636efa",
          "dash": "solid"
         },
         "marker": {
          "symbol": "circle"
         },
         "mode": "lines",
         "name": "close",
         "showlegend": true,
         "type": "scattergl",
         "x": {
          "bdata": "AAABAAIAAwAEAAUABgAHAAgACQAKAAsADAANAA4ADwAQABEAEgATABQAFQAWABcAGAAZABoAGwAcAB0AHgAfACAAIQAiACMAJAAlACYAJwAoACkAKgArACwALQAuAC8AMAAxADIAMwA0ADUANgA3ADgAOQA6ADsAPAA9AD4APwBAAEEAQgBDAEQARQBGAEcASABJAEoASwBMAE0ATgBPAFAAUQBSAFMAVABVAFYAVwBYAFkAWgBbAFwAXQBeAF8AYABhAGIAYwBkAGUAZgBnAGgAaQBqAGsAbABtAG4AbwBwAHEAcgBzAHQAdQB2AHcAeAB5AHoAewB8AH0AfgB/AIAAgQCCAIMAhACFAIYAhwCIAIkAigCLAIwAjQCOAI8AkACRAJIAkwCUAJUAlgCXAJgAmQCaAJsAnACdAJ4AnwCgAKEAogCjAKQApQCmAKcAqACpAKoAqwCsAK0ArgCvALAAsQCyALMAtAC1ALYAtwC4ALkAugC7ALwAvQC+AL8AwADBAMIAwwDEAMUAxgDHAMgAyQDKAMsAzADNAM4AzwDQANEA0gDTANQA1QDWANcA2ADZANoA2wDcAN0A3gDfAOAA4QDiAOMA5ADlAOYA5wDoAOkA6gDrAOwA7QDuAO8A8ADxAPIA8wD0APUA9gD3APgA+QD6APsA/AD9AP4A/wAAAQEBAgEDAQQBBQEGAQcBCAEJAQoBCwEMAQ0BDgEPARABEQESARMBFAEVARYBFwEYARkBGgEbARwBHQEeAR8BIAEhASIBIwEkASUBJgEnASgBKQEqASsBLAEtAS4BLwEwATEBMgEzATQBNQE2ATcBOAE5AToBOwE8AT0BPgE/AUABQQFCAUMBRAFFAUYBRwFIAUkBSgFLAUwBTQFOAU8BUAFRAVIBUwFUAVUBVgFXAVgBWQFaAVsBXAFdAV4BXwFgAWEBYgFjAWQBZQFmAWcBaAFpAWoBawFsAW0BbgFvAXABcQFyAXMBdAF1AXYBdwF4AXkBegF7AXwBfQF+AX8BgAGBAYIBgwGEAYUBhgGHAYgBiQGKAYsBjAGNAY4BjwGQAZEBkgGTAZQBlQGWAZcBmAGZAZoBmwGcAZ0BngGfAaABoQGiAaMBpAGlAaYBpwE=",
          "dtype": "i2"
         },
         "xaxis": "x",
         "y": {
          "bdata": "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",
          "dtype": "f8"
         },
         "yaxis": "y"
        },
        {
         "hovertemplate": "variable=ma5<br>index=%{x}<br>value=%{y}<extra></extra>",
         "legendgroup": "ma5",
         "line": {
          "color": "#EF553B",
          "dash": "solid"
         },
         "marker": {
          "symbol": "circle"
         },
         "mode": "lines",
         "name": "ma5",
         "showlegend": true,
         "type": "scattergl",
         "x": {
          "bdata": "AAABAAIAAwAEAAUABgAHAAgACQAKAAsADAANAA4ADwAQABEAEgATABQAFQAWABcAGAAZABoAGwAcAB0AHgAfACAAIQAiACMAJAAlACYAJwAoACkAKgArACwALQAuAC8AMAAxADIAMwA0ADUANgA3ADgAOQA6ADsAPAA9AD4APwBAAEEAQgBDAEQARQBGAEcASABJAEoASwBMAE0ATgBPAFAAUQBSAFMAVABVAFYAVwBYAFkAWgBbAFwAXQBeAF8AYABhAGIAYwBkAGUAZgBnAGgAaQBqAGsAbABtAG4AbwBwAHEAcgBzAHQAdQB2AHcAeAB5AHoAewB8AH0AfgB/AIAAgQCCAIMAhACFAIYAhwCIAIkAigCLAIwAjQCOAI8AkACRAJIAkwCUAJUAlgCXAJgAmQCaAJsAnACdAJ4AnwCgAKEAogCjAKQApQCmAKcAqACpAKoAqwCsAK0ArgCvALAAsQCyALMAtAC1ALYAtwC4ALkAugC7ALwAvQC+AL8AwADBAMIAwwDEAMUAxgDHAMgAyQDKAMsAzADNAM4AzwDQANEA0gDTANQA1QDWANcA2ADZANoA2wDcAN0A3gDfAOAA4QDiAOMA5ADlAOYA5wDoAOkA6gDrAOwA7QDuAO8A8ADxAPIA8wD0APUA9gD3APgA+QD6APsA/AD9AP4A/wAAAQEBAgEDAQQBBQEGAQcBCAEJAQoBCwEMAQ0BDgEPARABEQESARMBFAEVARYBFwEYARkBGgEbARwBHQEeAR8BIAEhASIBIwEkASUBJgEnASgBKQEqASsBLAEtAS4BLwEwATEBMgEzATQBNQE2ATcBOAE5AToBOwE8AT0BPgE/AUABQQFCAUMBRAFFAUYBRwFIAUkBSgFLAUwBTQFOAU8BUAFRAVIBUwFUAVUBVgFXAVgBWQFaAVsBXAFdAV4BXwFgAWEBYgFjAWQBZQFmAWcBaAFpAWoBawFsAW0BbgFvAXABcQFyAXMBdAF1AXYBdwF4AXkBegF7AXwBfQF+AX8BgAGBAYIBgwGEAYUBhgGHAYgBiQGKAYsBjAGNAY4BjwGQAZEBkgGTAZQBlQGWAZcBmAGZAZoBmwGcAZ0BngGfAaABoQGiAaMBpAGlAaYBpwE=",
          "dtype": "i2"
         },
         "xaxis": "x",
         "y": {
          "bdata": "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",
          "dtype": "f8"
         },
         "yaxis": "y"
        },
        {
         "hovertemplate": "variable=ma20<br>index=%{x}<br>value=%{y}<extra></extra>",
         "legendgroup": "ma20",
         "line": {
          "color": "#00cc96",
          "dash": "solid"
         },
         "marker": {
          "symbol": "circle"
         },
         "mode": "lines",
         "name": "ma20",
         "showlegend": true,
         "type": "scattergl",
         "x": {
          "bdata": "AAABAAIAAwAEAAUABgAHAAgACQAKAAsADAANAA4ADwAQABEAEgATABQAFQAWABcAGAAZABoAGwAcAB0AHgAfACAAIQAiACMAJAAlACYAJwAoACkAKgArACwALQAuAC8AMAAxADIAMwA0ADUANgA3ADgAOQA6ADsAPAA9AD4APwBAAEEAQgBDAEQARQBGAEcASABJAEoASwBMAE0ATgBPAFAAUQBSAFMAVABVAFYAVwBYAFkAWgBbAFwAXQBeAF8AYABhAGIAYwBkAGUAZgBnAGgAaQBqAGsAbABtAG4AbwBwAHEAcgBzAHQAdQB2AHcAeAB5AHoAewB8AH0AfgB/AIAAgQCCAIMAhACFAIYAhwCIAIkAigCLAIwAjQCOAI8AkACRAJIAkwCUAJUAlgCXAJgAmQCaAJsAnACdAJ4AnwCgAKEAogCjAKQApQCmAKcAqACpAKoAqwCsAK0ArgCvALAAsQCyALMAtAC1ALYAtwC4ALkAugC7ALwAvQC+AL8AwADBAMIAwwDEAMUAxgDHAMgAyQDKAMsAzADNAM4AzwDQANEA0gDTANQA1QDWANcA2ADZANoA2wDcAN0A3gDfAOAA4QDiAOMA5ADlAOYA5wDoAOkA6gDrAOwA7QDuAO8A8ADxAPIA8wD0APUA9gD3APgA+QD6APsA/AD9AP4A/wAAAQEBAgEDAQQBBQEGAQcBCAEJAQoBCwEMAQ0BDgEPARABEQESARMBFAEVARYBFwEYARkBGgEbARwBHQEeAR8BIAEhASIBIwEkASUBJgEnASgBKQEqASsBLAEtAS4BLwEwATEBMgEzATQBNQE2ATcBOAE5AToBOwE8AT0BPgE/AUABQQFCAUMBRAFFAUYBRwFIAUkBSgFLAUwBTQFOAU8BUAFRAVIBUwFUAVUBVgFXAVgBWQFaAVsBXAFdAV4BXwFgAWEBYgFjAWQBZQFmAWcBaAFpAWoBawFsAW0BbgFvAXABcQFyAXMBdAF1AXYBdwF4AXkBegF7AXwBfQF+AX8BgAGBAYIBgwGEAYUBhgGHAYgBiQGKAYsBjAGNAY4BjwGQAZEBkgGTAZQBlQGWAZcBmAGZAZoBmwGcAZ0BngGfAaABoQGiAaMBpAGlAaYBpwE=",
          "dtype": "i2"
         },
         "xaxis": "x",
         "y": {
          "bdata": "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",
          "dtype": "f8"
         },
         "yaxis": "y"
        }
       ],
       "layout": {
        "legend": {
         "title": {
          "text": "variable"
         },
         "tracegroupgap": 0
        },
        "template": {
         "data": {
          "bar": [
           {
            "error_x": {
             "color": "#2a3f5f"
            },
            "error_y": {
             "color": "#2a3f5f"
            },
            "marker": {
             "line": {
              "color": "#E5ECF6",
              "width": 0.5
             },
             "pattern": {
              "fillmode": "overlay",
              "size": 10,
              "solidity": 0.2
             }
            },
            "type": "bar"
           }
          ],
          "barpolar": [
           {
            "marker": {
             "line": {
              "color": "#E5ECF6",
              "width": 0.5
             },
             "pattern": {
              "fillmode": "overlay",
              "size": 10,
              "solidity": 0.2
             }
            },
            "type": "barpolar"
           }
          ],
          "carpet": [
           {
            "aaxis": {
             "endlinecolor": "#2a3f5f",
             "gridcolor": "white",
             "linecolor": "white",
             "minorgridcolor": "white",
             "startlinecolor": "#2a3f5f"
            },
            "baxis": {
             "endlinecolor": "#2a3f5f",
             "gridcolor": "white",
             "linecolor": "white",
             "minorgridcolor": "white",
             "startlinecolor": "#2a3f5f"
            },
            "type": "carpet"
           }
          ],
          "choropleth": [
           {
            "colorbar": {
             "outlinewidth": 0,
             "ticks": ""
            },
            "type": "choropleth"
           }
          ],
          "contour": [
           {
            "colorbar": {
             "outlinewidth": 0,
             "ticks": ""
            },
            "colorscale": [
             [
              0,
              "#0d0887"
             ],
             [
              0.1111111111111111,
              "#46039f"
             ],
             [
              0.2222222222222222,
              "#7201a8"
             ],
             [
              0.3333333333333333,
              "#9c179e"
             ],
             [
              0.4444444444444444,
              "#bd3786"
             ],
             [
              0.5555555555555556,
              "#d8576b"
             ],
             [
              0.6666666666666666,
              "#ed7953"
             ],
             [
              0.7777777777777778,
              "#fb9f3a"
             ],
             [
              0.8888888888888888,
              "#fdca26"
             ],
             [
              1,
              "#f0f921"
             ]
            ],
            "type": "contour"
           }
          ],
          "contourcarpet": [
           {
            "colorbar": {
             "outlinewidth": 0,
             "ticks": ""
            },
            "type": "contourcarpet"
           }
          ],
          "heatmap": [
           {
            "colorbar": {
             "outlinewidth": 0,
             "ticks": ""
            },
            "colorscale": [
             [
              0,
              "#0d0887"
             ],
             [
              0.1111111111111111,
              "#46039f"
             ],
             [
              0.2222222222222222,
              "#7201a8"
             ],
             [
              0.3333333333333333,
              "#9c179e"
             ],
             [
              0.4444444444444444,
              "#bd3786"
             ],
             [
              0.5555555555555556,
              "#d8576b"
             ],
             [
              0.6666666666666666,
              "#ed7953"
             ],
             [
              0.7777777777777778,
              "#fb9f3a"
             ],
             [
              0.8888888888888888,
              "#fdca26"
             ],
             [
              1,
              "#f0f921"
             ]
            ],
            "type": "heatmap"
           }
          ],
          "histogram": [
           {
            "marker": {
             "pattern": {
              "fillmode": "overlay",
              "size": 10,
              "solidity": 0.2
             }
            },
            "type": "histogram"
           }
          ],
          "histogram2d": [
           {
            "colorbar": {
             "outlinewidth": 0,
             "ticks": ""
            },
            "colorscale": [
             [
              0,
              "#0d0887"
             ],
             [
              0.1111111111111111,
              "#46039f"
             ],
             [
              0.2222222222222222,
              "#7201a8"
             ],
             [
              0.3333333333333333,
              "#9c179e"
             ],
             [
              0.4444444444444444,
              "#bd3786"
             ],
             [
              0.5555555555555556,
              "#d8576b"
             ],
             [
              0.6666666666666666,
              "#ed7953"
             ],
             [
              0.7777777777777778,
              "#fb9f3a"
             ],
             [
              0.8888888888888888,
              "#fdca26"
             ],
             [
              1,
              "#f0f921"
             ]
            ],
            "type": "histogram2d"
           }
          ],
          "histogram2dcontour": [
           {
            "colorbar": {
             "outlinewidth": 0,
             "ticks": ""
            },
            "colorscale": [
             [
              0,
              "#0d0887"
             ],
             [
              0.1111111111111111,
              "#46039f"
             ],
             [
              0.2222222222222222,
              "#7201a8"
             ],
             [
              0.3333333333333333,
              "#9c179e"
             ],
             [
              0.4444444444444444,
              "#bd3786"
             ],
             [
              0.5555555555555556,
              "#d8576b"
             ],
             [
              0.6666666666666666,
              "#ed7953"
             ],
             [
              0.7777777777777778,
              "#fb9f3a"
             ],
             [
              0.8888888888888888,
              "#fdca26"
             ],
             [
              1,
              "#f0f921"
             ]
            ],
            "type": "histogram2dcontour"
           }
          ],
          "mesh3d": [
           {
            "colorbar": {
             "outlinewidth": 0,
             "ticks": ""
            },
            "type": "mesh3d"
           }
          ],
          "parcoords": [
           {
            "line": {
             "colorbar": {
              "outlinewidth": 0,
              "ticks": ""
             }
            },
            "type": "parcoords"
           }
          ],
          "pie": [
           {
            "automargin": true,
            "type": "pie"
           }
          ],
          "scatter": [
           {
            "fillpattern": {
             "fillmode": "overlay",
             "size": 10,
             "solidity": 0.2
            },
            "type": "scatter"
           }
          ],
          "scatter3d": [
           {
            "line": {
             "colorbar": {
              "outlinewidth": 0,
              "ticks": ""
             }
            },
            "marker": {
             "colorbar": {
              "outlinewidth": 0,
              "ticks": ""
             }
            },
            "type": "scatter3d"
           }
          ],
          "scattercarpet": [
           {
            "marker": {
             "colorbar": {
              "outlinewidth": 0,
              "ticks": ""
             }
            },
            "type": "scattercarpet"
           }
          ],
          "scattergeo": [
           {
            "marker": {
             "colorbar": {
              "outlinewidth": 0,
              "ticks": ""
             }
            },
            "type": "scattergeo"
           }
          ],
          "scattergl": [
           {
            "marker": {
             "colorbar": {
              "outlinewidth": 0,
              "ticks": ""
             }
            },
            "type": "scattergl"
           }
          ],
          "scattermap": [
           {
            "marker": {
             "colorbar": {
              "outlinewidth": 0,
              "ticks": ""
             }
            },
            "type": "scattermap"
           }
          ],
          "scattermapbox": [
           {
            "marker": {
             "colorbar": {
              "outlinewidth": 0,
              "ticks": ""
             }
            },
            "type": "scattermapbox"
           }
          ],
          "scatterpolar": [
           {
            "marker": {
             "colorbar": {
              "outlinewidth": 0,
              "ticks": ""
             }
            },
            "type": "scatterpolar"
           }
          ],
          "scatterpolargl": [
           {
            "marker": {
             "colorbar": {
              "outlinewidth": 0,
              "ticks": ""
             }
            },
            "type": "scatterpolargl"
           }
          ],
          "scatterternary": [
           {
            "marker": {
             "colorbar": {
              "outlinewidth": 0,
              "ticks": ""
             }
            },
            "type": "scatterternary"
           }
          ],
          "surface": [
           {
            "colorbar": {
             "outlinewidth": 0,
             "ticks": ""
            },
            "colorscale": [
             [
              0,
              "#0d0887"
             ],
             [
              0.1111111111111111,
              "#46039f"
             ],
             [
              0.2222222222222222,
              "#7201a8"
             ],
             [
              0.3333333333333333,
              "#9c179e"
             ],
             [
              0.4444444444444444,
              "#bd3786"
             ],
             [
              0.5555555555555556,
              "#d8576b"
             ],
             [
              0.6666666666666666,
              "#ed7953"
             ],
             [
              0.7777777777777778,
              "#fb9f3a"
             ],
             [
              0.8888888888888888,
              "#fdca26"
             ],
             [
              1,
              "#f0f921"
             ]
            ],
            "type": "surface"
           }
          ],
          "table": [
           {
            "cells": {
             "fill": {
              "color": "#EBF0F8"
             },
             "line": {
              "color": "white"
             }
            },
            "header": {
             "fill": {
              "color": "#C8D4E3"
             },
             "line": {
              "color": "white"
             }
            },
            "type": "table"
           }
          ]
         },
         "layout": {
          "annotationdefaults": {
           "arrowcolor": "#2a3f5f",
           "arrowhead": 0,
           "arrowwidth": 1
          },
          "autotypenumbers": "strict",
          "coloraxis": {
           "colorbar": {
            "outlinewidth": 0,
            "ticks": ""
           }
          },
          "colorscale": {
           "diverging": [
            [
             0,
             "#8e0152"
            ],
            [
             0.1,
             "#c51b7d"
            ],
            [
             0.2,
             "#de77ae"
            ],
            [
             0.3,
             "#f1b6da"
            ],
            [
             0.4,
             "#fde0ef"
            ],
            [
             0.5,
             "#f7f7f7"
            ],
            [
             0.6,
             "#e6f5d0"
            ],
            [
             0.7,
             "#b8e186"
            ],
            [
             0.8,
             "#7fbc41"
            ],
            [
             0.9,
             "#4d9221"
            ],
            [
             1,
             "#276419"
            ]
           ],
           "sequential": [
            [
             0,
             "#0d0887"
            ],
            [
             0.1111111111111111,
             "#46039f"
            ],
            [
             0.2222222222222222,
             "#7201a8"
            ],
            [
             0.3333333333333333,
             "#9c179e"
            ],
            [
             0.4444444444444444,
             "#bd3786"
            ],
            [
             0.5555555555555556,
             "#d8576b"
            ],
            [
             0.6666666666666666,
             "#ed7953"
            ],
            [
             0.7777777777777778,
             "#fb9f3a"
            ],
            [
             0.8888888888888888,
             "#fdca26"
            ],
            [
             1,
             "#f0f921"
            ]
           ],
           "sequentialminus": [
            [
             0,
             "#0d0887"
            ],
            [
             0.1111111111111111,
             "#46039f"
            ],
            [
             0.2222222222222222,
             "#7201a8"
            ],
            [
             0.3333333333333333,
             "#9c179e"
            ],
            [
             0.4444444444444444,
             "#bd3786"
            ],
            [
             0.5555555555555556,
             "#d8576b"
            ],
            [
             0.6666666666666666,
             "#ed7953"
            ],
            [
             0.7777777777777778,
             "#fb9f3a"
            ],
            [
             0.8888888888888888,
             "#fdca26"
            ],
            [
             1,
             "#f0f921"
            ]
           ]
          },
          "colorway": [
           "#636efa",
           "#EF553B",
           "#00cc96",
           "#ab63fa",
           "#FFA15A",
           "#19d3f3",
           "#FF6692",
           "#B6E880",
           "#FF97FF",
           "#FECB52"
          ],
          "font": {
           "color": "#2a3f5f"
          },
          "geo": {
           "bgcolor": "white",
           "lakecolor": "white",
           "landcolor": "#E5ECF6",
           "showlakes": true,
           "showland": true,
           "subunitcolor": "white"
          },
          "hoverlabel": {
           "align": "left"
          },
          "hovermode": "closest",
          "mapbox": {
           "style": "light"
          },
          "paper_bgcolor": "white",
          "plot_bgcolor": "#E5ECF6",
          "polar": {
           "angularaxis": {
            "gridcolor": "white",
            "linecolor": "white",
            "ticks": ""
           },
           "bgcolor": "#E5ECF6",
           "radialaxis": {
            "gridcolor": "white",
            "linecolor": "white",
            "ticks": ""
           }
          },
          "scene": {
           "xaxis": {
            "backgroundcolor": "#E5ECF6",
            "gridcolor": "white",
            "gridwidth": 2,
            "linecolor": "white",
            "showbackground": true,
            "ticks": "",
            "zerolinecolor": "white"
           },
           "yaxis": {
            "backgroundcolor": "#E5ECF6",
            "gridcolor": "white",
            "gridwidth": 2,
            "linecolor": "white",
            "showbackground": true,
            "ticks": "",
            "zerolinecolor": "white"
           },
           "zaxis": {
            "backgroundcolor": "#E5ECF6",
            "gridcolor": "white",
            "gridwidth": 2,
            "linecolor": "white",
            "showbackground": true,
            "ticks": "",
            "zerolinecolor": "white"
           }
          },
          "shapedefaults": {
           "line": {
            "color": "#2a3f5f"
           }
          },
          "ternary": {
           "aaxis": {
            "gridcolor": "white",
            "linecolor": "white",
            "ticks": ""
           },
           "baxis": {
            "gridcolor": "white",
            "linecolor": "white",
            "ticks": ""
           },
           "bgcolor": "#E5ECF6",
           "caxis": {
            "gridcolor": "white",
            "linecolor": "white",
            "ticks": ""
           }
          },
          "title": {
           "x": 0.05
          },
          "xaxis": {
           "automargin": true,
           "gridcolor": "white",
           "linecolor": "white",
           "ticks": "",
           "title": {
            "standoff": 15
           },
           "zerolinecolor": "white",
           "zerolinewidth": 2
          },
          "yaxis": {
           "automargin": true,
           "gridcolor": "white",
           "linecolor": "white",
           "ticks": "",
           "title": {
            "standoff": 15
           },
           "zerolinecolor": "white",
           "zerolinewidth": 2
          }
         }
        },
        "title": {
         "text": "SPX_1h_lines"
        },
        "xaxis": {
         "anchor": "y",
         "domain": [
          0,
          1
         ],
         "title": {
          "text": "index"
         }
        },
        "yaxis": {
         "anchor": "x",
         "domain": [
          0,
          1
         ],
         "title": {
          "text": "value"
         }
        }
       }
      }
     },
     "metadata": {},
     "output_type": "display_data"
    }
   ],
   "source": [
    "fig.show()"
   ]
  },
  {
   "cell_type": "code",
   "execution_count": null,
   "id": "4dd6f36d",
   "metadata": {},
   "outputs": [],
   "source": [
    "start_dates = [d.date() for d in spx_1h.index if d.weekday() == 4]\n",
    "start_dates = sorted(list(set(start_dates)))\n",
    "start_dates = "
   ]
  },
  {
   "cell_type": "code",
   "execution_count": 88,
   "id": "53c7856b",
   "metadata": {},
   "outputs": [],
   "source": [
    "test = datetime.datetime(start.year, start.month, start.day)"
   ]
  },
  {
   "cell_type": "code",
   "execution_count": 94,
   "id": "49a528cd",
   "metadata": {},
   "outputs": [
    {
     "data": {
      "text/html": [
       "<div>\n",
       "<style scoped>\n",
       "    .dataframe tbody tr th:only-of-type {\n",
       "        vertical-align: middle;\n",
       "    }\n",
       "\n",
       "    .dataframe tbody tr th {\n",
       "        vertical-align: top;\n",
       "    }\n",
       "\n",
       "    .dataframe thead th {\n",
       "        text-align: right;\n",
       "    }\n",
       "</style>\n",
       "<table border=\"1\" class=\"dataframe\">\n",
       "  <thead>\n",
       "    <tr style=\"text-align: right;\">\n",
       "      <th></th>\n",
       "      <th>close</th>\n",
       "      <th>ma5</th>\n",
       "      <th>ma20</th>\n",
       "      <th>close_vix</th>\n",
       "    </tr>\n",
       "    <tr>\n",
       "      <th>date</th>\n",
       "      <th></th>\n",
       "      <th></th>\n",
       "      <th></th>\n",
       "      <th></th>\n",
       "    </tr>\n",
       "  </thead>\n",
       "  <tbody>\n",
       "    <tr>\n",
       "      <th>2022-10-21 15:00:00</th>\n",
       "      <td>3700.909912</td>\n",
       "      <td>3678.51</td>\n",
       "      <td>3698.28</td>\n",
       "      <td>29.750000</td>\n",
       "    </tr>\n",
       "    <tr>\n",
       "      <th>2022-10-21 16:00:00</th>\n",
       "      <td>3677.320068</td>\n",
       "      <td>3676.19</td>\n",
       "      <td>3696.99</td>\n",
       "      <td>29.900000</td>\n",
       "    </tr>\n",
       "    <tr>\n",
       "      <th>2022-10-21 17:00:00</th>\n",
       "      <td>3709.399902</td>\n",
       "      <td>3683.90</td>\n",
       "      <td>3696.68</td>\n",
       "      <td>29.320000</td>\n",
       "    </tr>\n",
       "    <tr>\n",
       "      <th>2022-10-21 18:00:00</th>\n",
       "      <td>3723.080078</td>\n",
       "      <td>3695.19</td>\n",
       "      <td>3696.27</td>\n",
       "      <td>29.730000</td>\n",
       "    </tr>\n",
       "    <tr>\n",
       "      <th>2022-10-21 19:00:00</th>\n",
       "      <td>3736.050049</td>\n",
       "      <td>3709.35</td>\n",
       "      <td>3697.83</td>\n",
       "      <td>29.809999</td>\n",
       "    </tr>\n",
       "    <tr>\n",
       "      <th>...</th>\n",
       "      <td>...</td>\n",
       "      <td>...</td>\n",
       "      <td>...</td>\n",
       "      <td>...</td>\n",
       "    </tr>\n",
       "    <tr>\n",
       "      <th>2022-11-03 16:00:00</th>\n",
       "      <td>3726.810059</td>\n",
       "      <td>3749.96</td>\n",
       "      <td>3829.88</td>\n",
       "      <td>25.799999</td>\n",
       "    </tr>\n",
       "    <tr>\n",
       "      <th>2022-11-03 17:00:00</th>\n",
       "      <td>3748.399902</td>\n",
       "      <td>3735.95</td>\n",
       "      <td>3823.28</td>\n",
       "      <td>25.350000</td>\n",
       "    </tr>\n",
       "    <tr>\n",
       "      <th>2022-11-03 18:00:00</th>\n",
       "      <td>3732.250000</td>\n",
       "      <td>3730.58</td>\n",
       "      <td>3815.97</td>\n",
       "      <td>25.420000</td>\n",
       "    </tr>\n",
       "    <tr>\n",
       "      <th>2022-11-03 19:00:00</th>\n",
       "      <td>3744.469971</td>\n",
       "      <td>3739.22</td>\n",
       "      <td>3809.57</td>\n",
       "      <td>25.420000</td>\n",
       "    </tr>\n",
       "    <tr>\n",
       "      <th>2022-11-03 20:00:00</th>\n",
       "      <td>3719.800049</td>\n",
       "      <td>3734.35</td>\n",
       "      <td>3801.05</td>\n",
       "      <td>25.209999</td>\n",
       "    </tr>\n",
       "  </tbody>\n",
       "</table>\n",
       "<p>70 rows × 4 columns</p>\n",
       "</div>"
      ],
      "text/plain": [
       "                           close      ma5     ma20  close_vix\n",
       "date                                                         \n",
       "2022-10-21 15:00:00  3700.909912  3678.51  3698.28  29.750000\n",
       "2022-10-21 16:00:00  3677.320068  3676.19  3696.99  29.900000\n",
       "2022-10-21 17:00:00  3709.399902  3683.90  3696.68  29.320000\n",
       "2022-10-21 18:00:00  3723.080078  3695.19  3696.27  29.730000\n",
       "2022-10-21 19:00:00  3736.050049  3709.35  3697.83  29.809999\n",
       "...                          ...      ...      ...        ...\n",
       "2022-11-03 16:00:00  3726.810059  3749.96  3829.88  25.799999\n",
       "2022-11-03 17:00:00  3748.399902  3735.95  3823.28  25.350000\n",
       "2022-11-03 18:00:00  3732.250000  3730.58  3815.97  25.420000\n",
       "2022-11-03 19:00:00  3744.469971  3739.22  3809.57  25.420000\n",
       "2022-11-03 20:00:00  3719.800049  3734.35  3801.05  25.209999\n",
       "\n",
       "[70 rows x 4 columns]"
      ]
     },
     "execution_count": 94,
     "metadata": {},
     "output_type": "execute_result"
    }
   ],
   "source": [
    "spx_1h.tz_localize(None).loc[test:test + timedelta(weeks=2)]"
   ]
  },
  {
   "cell_type": "code",
   "execution_count": 63,
   "id": "cad77dd4",
   "metadata": {},
   "outputs": [],
   "source": [
    "start = start_dates[50]\n",
    "stop = start + timedelta(weeks=14)"
   ]
  },
  {
   "cell_type": "code",
   "execution_count": 66,
   "id": "2e76af4a",
   "metadata": {},
   "outputs": [
    {
     "ename": "AttributeError",
     "evalue": "'DatetimeIndex' object has no attribute 'between'",
     "output_type": "error",
     "traceback": [
      "\u001b[31m---------------------------------------------------------------------------\u001b[39m",
      "\u001b[31mAttributeError\u001b[39m                            Traceback (most recent call last)",
      "\u001b[36mCell\u001b[39m\u001b[36m \u001b[39m\u001b[32mIn[66]\u001b[39m\u001b[32m, line 1\u001b[39m\n\u001b[32m----> \u001b[39m\u001b[32m1\u001b[39m \u001b[43mspx_1h\u001b[49m\u001b[43m.\u001b[49m\u001b[43mindex\u001b[49m\u001b[43m.\u001b[49m\u001b[43mbetween\u001b[49m(start, stop)\n",
      "\u001b[31mAttributeError\u001b[39m: 'DatetimeIndex' object has no attribute 'between'"
     ]
    }
   ],
   "source": [
    "spx_1h.index.between(start, stop)"
   ]
  },
  {
   "cell_type": "code",
   "execution_count": 26,
   "id": "bd9848b5",
   "metadata": {},
   "outputs": [
    {
     "data": {
      "text/plain": [
       "Timestamp('2021-10-18 20:00:00+0200', tz='Europe/Berlin')"
      ]
     },
     "execution_count": 26,
     "metadata": {},
     "output_type": "execute_result"
    }
   ],
   "source": [
    "test"
   ]
  },
  {
   "cell_type": "code",
   "execution_count": null,
   "id": "aa8ab9ab",
   "metadata": {},
   "outputs": [],
   "source": []
  }
 ],
 "metadata": {
  "kernelspec": {
   "display_name": ".venv (3.12.1)",
   "language": "python",
   "name": "python3"
  },
  "language_info": {
   "codemirror_mode": {
    "name": "ipython",
    "version": 3
   },
   "file_extension": ".py",
   "mimetype": "text/x-python",
   "name": "python",
   "nbconvert_exporter": "python",
   "pygments_lexer": "ipython3",
   "version": "3.12.1"
  }
 },
 "nbformat": 4,
 "nbformat_minor": 5
}
